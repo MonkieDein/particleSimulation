{
 "cells": [
  {
   "cell_type": "markdown",
   "id": "72ba6879",
   "metadata": {},
   "source": [
    "# Diffusion coefficient\n",
    "\n",
    "In this document we intend to calculate the diffusion coefficient $D_f$ for various value of $w_p$ and $\\Delta T$, with the formula \n",
    "$$\\log_{10}D(w_p,\\Delta T) = A(\\Delta T)_I - B(\\Delta T)_I \\cdot w_p$$ \n",
    "Let $C$ be the constant used in each region.\n",
    "\n",
    "|             | C1          | C2          | C3            | C4            |\n",
    "| :---        |    :----:   |    :----:   |     :----:    |          ---: |\n",
    "| Region 1    | -4.428      | 1.842       | 0             | 8.12e-3       |\n",
    "| Region 2    | 26.0        | 37.0        | 0.0797        | 0             |\n",
    "| Region 3    | 159.0       | 170.0       | 0.3664        | 0             |\n",
    "| Region 4    | -13.7       | 0.500       | 0             | 0             |\n",
    "\n",
    "- $A = C1 + \\Delta T \\cdot C3$ , and $B = C2 - \\Delta T \\cdot C4$ are four elements vectors. \n",
    "\n",
    "Given the function $A - B \\cdot w_p$. Intersection over $w_p$ given $A_i$, $A_{i+1}$, $B_i$, $B_{i+1}$ can be computed as \n",
    "$$A_i - B_i \\cdot w_p = A_{i+1} - B_{i+1} \\cdot w_p $$\n",
    "$$A_i - A_{i+1} = (B_i - B_{i+1}) \\cdot w_p $$\n",
    "$$w_p = \\frac{A_i - A_{i+1}}{B_i - B_{i+1}}$$\n",
    "- Therefore we denote $R_{\\min}(A,B) = [0 ~;~ \\frac{A_{1} - A_{2}}{B_{1} - B_{2}} ~;~ \\frac{A_{2} - A_{3}}{B_{2} - B_{3}}~;~ \\frac{A_{3} - A_{4}}{B_{3} - B_{4}}] $ as a four elements vector, which refers to the minimum of each region.\n",
    "- $I(w_p,A,B) = R_{\\min}(A,B)[~ \\sum(~w_p \\geq R_{\\min}(A,B)~ )~]$ refering to the index of region."
   ]
  },
  {
   "cell_type": "code",
   "execution_count": null,
   "id": "b31a3591",
   "metadata": {},
   "outputs": [],
   "source": [
    "using DataFrames\n",
    "using Plots\n",
    "\n",
    "# Region is treated as a constant\n",
    "Region = DataFrame(\n",
    "    C1 = [ -4.428 ; 26.0 ; 159.0 ; -13.7 ],\n",
    "    C2 = [ 1.842 ; 37.0 ; 170.0 ; 0.500 ],\n",
    "    C3 = [ 0 ; 0.0797 ; 0.3664 ; 0 ],\n",
    "    C4 = [ 8.12e-3 ; 0 ; 0 ; 0 ]\n",
    ")\n",
    "\n",
    "# logD = ( A - B ⋅ wₚ ) where A = C₁ + ΔT C₃ , and B = C₂ - ΔT C₄\n",
    "# ΔT = Tᵣₓₙ - Tg : Tg = 70\n",
    "function logD( wₚ , ΔT; unit = \"cm\", Region = Region)   \n",
    "    scale = Dict(\"m\" => -4,\"cm\" => 0,\"nm\" => 14)\n",
    "    A = Region.C1 .+ ΔT .* Region.C3  \n",
    "    B = Region.C2 .- ΔT .* Region.C4 \n",
    "    # Intersection of wₚ : (aᵢ - aᵢ₊₁)/(bᵢ - bᵢ₊₁) or (aᵢ₊₁ - aᵢ)/(bᵢ₊₁ - bᵢ)\n",
    "    RegionMin = [0 ; (A[[1,2,3]] .- A[[2,3,4]]) ./ (B[[1,2,3]] .- B[[2,3,4]])]\n",
    "    RegionIndex = searchsortedlast(RegionMin,wₚ)\n",
    "    return( ( A[RegionIndex] - B[RegionIndex] * wₚ ) + scale[unit])\n",
    "end\n",
    "\n",
    "# Plot Discretization : How fine does each axis has to discretize.\n",
    "N = 101\n",
    "M = 101\n",
    "Wₚ = collect(range(0,1,N)) # collect turn range to a vectors of values\n",
    "ΔT = collect(range(-100,100,M))\n",
    "\n",
    "# Calculate logD for each combination of Wₚ and ΔT.\n",
    "log₁₀D = [ [logD( Wₚ[i] ,ΔT[j],unit = \"cm\",Region=Region)  for i in 1:N ] for j in 1:M]\n",
    "log₁₀D = reduce(hcat,log₁₀D) # Turn vector of vector to a 2D Matrices"
   ]
  },
  {
   "cell_type": "code",
   "execution_count": null,
   "id": "7c05611b",
   "metadata": {},
   "outputs": [],
   "source": [
    "# Create Figure set resolution, set axis, plot surface.\n",
    "fig = Figure(resolution = (1200, 800)) \n",
    "ax = Axis3(fig[1,1:2],xlabel = \"Wₚ\",ylabel = \"ΔT (°C)\",zlabel=\"log₁₀D (cm²/s)\")\n",
    "surface!(ax,Wₚ,ΔT,log₁₀D,color = (:blue,0.05),transparency=true)"
   ]
  }
 ],
 "metadata": {
  "kernelspec": {
   "display_name": "Julia 1.8.5",
   "language": "julia",
   "name": "julia-1.8"
  },
  "language_info": {
   "file_extension": ".jl",
   "mimetype": "application/julia",
   "name": "julia",
   "version": "1.8.5"
  }
 },
 "nbformat": 4,
 "nbformat_minor": 5
}
